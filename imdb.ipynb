{
 "cells": [
  {
   "cell_type": "code",
   "execution_count": 13,
   "id": "e12bd0d5-e913-4f47-a999-6c6462a528bc",
   "metadata": {},
   "outputs": [],
   "source": [
    "import pandas as pd\n",
    "import numpy as np\n",
    "import seaborn as sns\n",
    "import matplotlib\n",
    "from matplotlib import pyplot as plt\n",
    "from bs4 import BeautifulSoup as bs\n",
    "import requests\n",
    "import lxml\n",
    "import html5lib\n",
    "import time\n",
    "import random\n",
    "from requests.adapters import HTTPAdapter\n",
    "from requests.packages.urllib3.util.retry import Retry"
   ]
  },
  {
   "cell_type": "markdown",
   "id": "5eec87c5-fa5e-41f1-b998-0df874811ba3",
   "metadata": {},
   "source": [
    "## Get the 250 TV Series with the highest average rating. "
   ]
  },
  {
   "cell_type": "code",
   "execution_count": 89,
   "id": "d3a10e3a-5f08-445a-89b6-eca7343cd0c5",
   "metadata": {},
   "outputs": [],
   "source": [
    "# Page with highest rating average 250 TV series\n",
    "URL = \"https://www.imdb.com/chart/toptv/?ref_=nv_tvv_50\"\n",
    "page = requests.get(URL)\n",
    "soup = bs(page.content, \"lxml\")"
   ]
  },
  {
   "cell_type": "code",
   "execution_count": 91,
   "id": "3ff48d49-5fa2-417e-b8f9-3d6f99a5f9ab",
   "metadata": {},
   "outputs": [
    {
     "data": {
      "text/html": [
       "<div>\n",
       "<style scoped>\n",
       "    .dataframe tbody tr th:only-of-type {\n",
       "        vertical-align: middle;\n",
       "    }\n",
       "\n",
       "    .dataframe tbody tr th {\n",
       "        vertical-align: top;\n",
       "    }\n",
       "\n",
       "    .dataframe thead th {\n",
       "        text-align: right;\n",
       "    }\n",
       "</style>\n",
       "<table border=\"1\" class=\"dataframe\">\n",
       "  <thead>\n",
       "    <tr style=\"text-align: right;\">\n",
       "      <th></th>\n",
       "      <th>series_name</th>\n",
       "      <th>series_rank</th>\n",
       "      <th>series_origin_year</th>\n",
       "      <th>series_link</th>\n",
       "    </tr>\n",
       "  </thead>\n",
       "  <tbody>\n",
       "  </tbody>\n",
       "</table>\n",
       "</div>"
      ],
      "text/plain": [
       "Empty DataFrame\n",
       "Columns: [series_name, series_rank, series_origin_year, series_link]\n",
       "Index: []"
      ]
     },
     "execution_count": 91,
     "metadata": {},
     "output_type": "execute_result"
    }
   ],
   "source": [
    "top_list = pd.DataFrame(columns=[\"series_name\", \"series_rank\", \"series_origin_year\", \"series_link\"])\n",
    "top_list"
   ]
  },
  {
   "cell_type": "code",
   "execution_count": 92,
   "id": "5e6d1de5-9e84-4598-990d-724a03702e3e",
   "metadata": {},
   "outputs": [],
   "source": [
    "all_series = soup.find_all('td', class_='titleColumn')\n",
    "\n",
    "for ser in all_series:\n",
    "    \n",
    "    series_link = ser.find(\"a\")\n",
    "    \n",
    "    series_rank = (\n",
    "        ser\n",
    "        .text\n",
    "        .split(\".\")[0]\n",
    "        .strip()\n",
    "    )\n",
    "    \n",
    "    series_title = (\n",
    "        ser\n",
    "        .text\n",
    "        .split(\".\")[1]\n",
    "        .split(\"(\")[0]\n",
    "        .strip()\n",
    "    )\n",
    "    series_year = (\n",
    "        ser\n",
    "        .text\n",
    "        .split(\"(\")[1]\n",
    "        .replace(\")\", \"\")\n",
    "        .strip()\n",
    "    )\n",
    "    \n",
    "    row = {\n",
    "    \"series_name\": series_title, \n",
    "    \"series_rank\": series_rank,\n",
    "    \"series_origin_year\": series_year,\n",
    "    \"series_link\": series_link[\"href\"]\n",
    "      }\n",
    "    \n",
    "    top_list = top_list.append(row, ignore_index=True)"
   ]
  },
  {
   "cell_type": "code",
   "execution_count": 252,
   "id": "2cb72e57-cdec-4bba-9e92-a0e0c3a0fcea",
   "metadata": {},
   "outputs": [
    {
     "data": {
      "text/html": [
       "<div>\n",
       "<style scoped>\n",
       "    .dataframe tbody tr th:only-of-type {\n",
       "        vertical-align: middle;\n",
       "    }\n",
       "\n",
       "    .dataframe tbody tr th {\n",
       "        vertical-align: top;\n",
       "    }\n",
       "\n",
       "    .dataframe thead th {\n",
       "        text-align: right;\n",
       "    }\n",
       "</style>\n",
       "<table border=\"1\" class=\"dataframe\">\n",
       "  <thead>\n",
       "    <tr style=\"text-align: right;\">\n",
       "      <th></th>\n",
       "      <th>series_name</th>\n",
       "      <th>series_rank</th>\n",
       "      <th>series_origin_year</th>\n",
       "      <th>series_link</th>\n",
       "    </tr>\n",
       "  </thead>\n",
       "  <tbody>\n",
       "    <tr>\n",
       "      <th>0</th>\n",
       "      <td>Planet Earth II</td>\n",
       "      <td>1</td>\n",
       "      <td>2016</td>\n",
       "      <td>/title/tt5491994/</td>\n",
       "    </tr>\n",
       "    <tr>\n",
       "      <th>1</th>\n",
       "      <td>Planet Earth</td>\n",
       "      <td>2</td>\n",
       "      <td>2006</td>\n",
       "      <td>/title/tt0795176/</td>\n",
       "    </tr>\n",
       "    <tr>\n",
       "      <th>2</th>\n",
       "      <td>Breaking Bad</td>\n",
       "      <td>3</td>\n",
       "      <td>2008</td>\n",
       "      <td>/title/tt0903747/</td>\n",
       "    </tr>\n",
       "    <tr>\n",
       "      <th>3</th>\n",
       "      <td>Band of Brothers</td>\n",
       "      <td>4</td>\n",
       "      <td>2001</td>\n",
       "      <td>/title/tt0185906/</td>\n",
       "    </tr>\n",
       "    <tr>\n",
       "      <th>4</th>\n",
       "      <td>Chernobyl</td>\n",
       "      <td>5</td>\n",
       "      <td>2019</td>\n",
       "      <td>/title/tt7366338/</td>\n",
       "    </tr>\n",
       "  </tbody>\n",
       "</table>\n",
       "</div>"
      ],
      "text/plain": [
       "        series_name series_rank series_origin_year        series_link\n",
       "0   Planet Earth II           1               2016  /title/tt5491994/\n",
       "1      Planet Earth           2               2006  /title/tt0795176/\n",
       "2      Breaking Bad           3               2008  /title/tt0903747/\n",
       "3  Band of Brothers           4               2001  /title/tt0185906/\n",
       "4         Chernobyl           5               2019  /title/tt7366338/"
      ]
     },
     "execution_count": 252,
     "metadata": {},
     "output_type": "execute_result"
    }
   ],
   "source": [
    "top_list.head(5)"
   ]
  },
  {
   "cell_type": "code",
   "execution_count": 79,
   "id": "af974d68-4859-40e3-892a-6ae005f85f2e",
   "metadata": {},
   "outputs": [],
   "source": [
    "# Pickle or read pickled data. \n",
    "    \n",
    "# PICKLE\n",
    "# top_list.to_pickle(\"top_series.pkl\")\n",
    "\n",
    "# READ\n",
    "top_list = pd.read_pickle(\"top_series.pkl\")"
   ]
  },
  {
   "cell_type": "code",
   "execution_count": 81,
   "id": "045c1d84-19e3-4f8c-bee1-0fbdf30eab66",
   "metadata": {},
   "outputs": [],
   "source": [
    "# This is a way of dealing with series with similar names (e.g. House of Cards)\n",
    "top_list['series_id'] = top_list['series_name'] + \" (\" + top_list['series_origin_year'] + \")\""
   ]
  },
  {
   "cell_type": "code",
   "execution_count": 82,
   "id": "0a0ac3e2-2351-48e3-9570-5df501ecb4af",
   "metadata": {},
   "outputs": [
    {
     "data": {
      "text/html": [
       "<div>\n",
       "<style scoped>\n",
       "    .dataframe tbody tr th:only-of-type {\n",
       "        vertical-align: middle;\n",
       "    }\n",
       "\n",
       "    .dataframe tbody tr th {\n",
       "        vertical-align: top;\n",
       "    }\n",
       "\n",
       "    .dataframe thead th {\n",
       "        text-align: right;\n",
       "    }\n",
       "</style>\n",
       "<table border=\"1\" class=\"dataframe\">\n",
       "  <thead>\n",
       "    <tr style=\"text-align: right;\">\n",
       "      <th></th>\n",
       "      <th>series_name</th>\n",
       "      <th>series_rank</th>\n",
       "      <th>series_origin_year</th>\n",
       "      <th>series_link</th>\n",
       "      <th>series_id</th>\n",
       "    </tr>\n",
       "  </thead>\n",
       "  <tbody>\n",
       "    <tr>\n",
       "      <th>0</th>\n",
       "      <td>Planet Earth II</td>\n",
       "      <td>1</td>\n",
       "      <td>2016</td>\n",
       "      <td>/title/tt5491994/</td>\n",
       "      <td>Planet Earth II (2016)</td>\n",
       "    </tr>\n",
       "    <tr>\n",
       "      <th>1</th>\n",
       "      <td>Planet Earth</td>\n",
       "      <td>2</td>\n",
       "      <td>2006</td>\n",
       "      <td>/title/tt0795176/</td>\n",
       "      <td>Planet Earth (2006)</td>\n",
       "    </tr>\n",
       "    <tr>\n",
       "      <th>2</th>\n",
       "      <td>Breaking Bad</td>\n",
       "      <td>3</td>\n",
       "      <td>2008</td>\n",
       "      <td>/title/tt0903747/</td>\n",
       "      <td>Breaking Bad (2008)</td>\n",
       "    </tr>\n",
       "    <tr>\n",
       "      <th>3</th>\n",
       "      <td>Band of Brothers</td>\n",
       "      <td>4</td>\n",
       "      <td>2001</td>\n",
       "      <td>/title/tt0185906/</td>\n",
       "      <td>Band of Brothers (2001)</td>\n",
       "    </tr>\n",
       "    <tr>\n",
       "      <th>4</th>\n",
       "      <td>Chernobyl</td>\n",
       "      <td>5</td>\n",
       "      <td>2019</td>\n",
       "      <td>/title/tt7366338/</td>\n",
       "      <td>Chernobyl (2019)</td>\n",
       "    </tr>\n",
       "  </tbody>\n",
       "</table>\n",
       "</div>"
      ],
      "text/plain": [
       "        series_name series_rank series_origin_year        series_link  \\\n",
       "0   Planet Earth II           1               2016  /title/tt5491994/   \n",
       "1      Planet Earth           2               2006  /title/tt0795176/   \n",
       "2      Breaking Bad           3               2008  /title/tt0903747/   \n",
       "3  Band of Brothers           4               2001  /title/tt0185906/   \n",
       "4         Chernobyl           5               2019  /title/tt7366338/   \n",
       "\n",
       "                 series_id  \n",
       "0   Planet Earth II (2016)  \n",
       "1      Planet Earth (2006)  \n",
       "2      Breaking Bad (2008)  \n",
       "3  Band of Brothers (2001)  \n",
       "4         Chernobyl (2019)  "
      ]
     },
     "execution_count": 82,
     "metadata": {},
     "output_type": "execute_result"
    }
   ],
   "source": [
    "top_list.head(5)"
   ]
  },
  {
   "cell_type": "markdown",
   "id": "13b61150-a27b-42ce-819c-a4a3aa8c5077",
   "metadata": {},
   "source": [
    "## Function: How to know the number of seasons per series."
   ]
  },
  {
   "cell_type": "code",
   "execution_count": 14,
   "id": "96902524-5e21-4a16-8984-5835fa321da0",
   "metadata": {},
   "outputs": [],
   "source": [
    "# https://stackoverflow.com/questions/23013220/max-retries-exceeded-with-url-in-requests\n",
    "session = requests.Session()\n",
    "retry = Retry(connect=3, backoff_factor=0.5)\n",
    "adapter = HTTPAdapter(max_retries=retry)\n",
    "session.mount('http://', adapter)\n",
    "session.mount('https://', adapter)"
   ]
  },
  {
   "cell_type": "code",
   "execution_count": 84,
   "id": "3bc78a80-1f9c-4008-bfa7-b01ed429e0ee",
   "metadata": {},
   "outputs": [],
   "source": [
    "# Get the number of seasons for a certain series\n",
    "def get_last_season(series_name):\n",
    "    \n",
    "    print(\"########################################################################################\")\n",
    "    print(f\"SCRAPING: {series_name.upper()}\")\n",
    "    \n",
    "    # Add some random sleep time between each request toward IMDB.\n",
    "    time.sleep(random.randint(5,15))\n",
    "    \n",
    "    # Get the URL and id based on mapping between series title and series link.\n",
    "    try: \n",
    "        series_link = top_list[top_list['series_name']==f\"{series_name}\"]['series_link'].item()\n",
    "    except ValueError:\n",
    "        print(f\"{series_name.upper()} references more than one series. Exclude it from the dataset.\")\n",
    "    \n",
    "    # Send request and get soup.\n",
    "    URL = f\"https://www.imdb.com{series_link}\"\n",
    "    page = session.get(URL) # Write \"session\" instead of \"requests\" to deal with connection errors.\n",
    "    soup = bs(page.content, \"lxml\")\n",
    "\n",
    "    max_season = soup.find(\"select\", id=\"browse-episodes-season\")\n",
    "\n",
    "    # The \"browse episodes\" button only exists if there are multiple seasons. \n",
    "    if max_season is None:\n",
    "        max_season = 1\n",
    "    else:\n",
    "        max_season = int(max_season['aria-label'].split(' ')[0])\n",
    "        \n",
    "    print(f\"##### TOTAL SEASONS: {max_season}\")\n",
    "            \n",
    "    return(max_season)"
   ]
  },
  {
   "cell_type": "markdown",
   "id": "68e487d7-b980-425a-9f18-8e4a274bd908",
   "metadata": {},
   "source": [
    "## Function: How to scrape all the episode data per series and season."
   ]
  },
  {
   "cell_type": "code",
   "execution_count": 85,
   "id": "5530cba0-fd07-4283-827b-07b54a378e3a",
   "metadata": {},
   "outputs": [],
   "source": [
    "def get_ratings(series_name):\n",
    "    \n",
    "    # Get the URL based on mapping between series title and series link.\n",
    "    try: \n",
    "        series_link = top_list[top_list['series_name']==f\"{series_name}\"]['series_link'].item()\n",
    "    except ValueError:\n",
    "        print(f\"{series_name.upper()} references more than one series. Exclude it from the dataset.\")\n",
    "    \n",
    "    # Create empty dataframe.\n",
    "    df = pd.DataFrame(columns=[\"series_name\", \n",
    "                               \"series_rank\", \n",
    "                               \"series_origin_year\", \n",
    "                               \"series_link\",\n",
    "                               \"season\",\n",
    "                               \"episode\",\n",
    "                               \"episode_rating\",\n",
    "                               \"episode_total_votes\",\n",
    "                               \"episode_description\"\n",
    "                              ])\n",
    "    \n",
    "    # Get the max number of seasons.\n",
    "    seasons = get_last_season(series_name)\n",
    "    \n",
    "    print(f\"##### GETTING EPISODES...\")\n",
    "    \n",
    "    # Loop through each season for a series.\n",
    "    for season in np.arange(1, seasons+1):\n",
    "        \n",
    "        # Add some random sleep time between each request toward IMDB.\n",
    "        time.sleep(random.randint(5,15))\n",
    "        \n",
    "        # Get the soup for each season's IMDB URL page.\n",
    "        URL = f\"https://www.imdb.com{series_link}episodes?season={season}\"\n",
    "        page = session.get(URL) # Write \"session\" instead of \"requests\" to deal with connection errors.\n",
    "        soup = bs(page.content, \"lxml\")\n",
    "        \n",
    "        # Get all info for all episodes in selected season.\n",
    "        all_episode_info = soup.find_all(class_=\"info\")\n",
    "\n",
    "        for episode in all_episode_info:\n",
    "\n",
    "            description = episode.find(\"div\", class_=\"item_description\")\n",
    "            rating = episode.find(\"span\", class_=\"ipl-rating-star__rating\") # There are actually several of this object. Luckily, the first one is the one we're looking for.\n",
    "            total_votes = episode.find(\"span\", class_=\"ipl-rating-star__total-votes\")\n",
    "            number = episode.find(\"meta\", itemprop=\"episodeNumber\")\n",
    "            \n",
    "            row = {\n",
    "                \"series_name\": series_name, \n",
    "                \"series_rank\": top_list[top_list['series_name']==series_name]['series_rank'].item(),\n",
    "                \"series_origin_year\": top_list[top_list['series_name']==series_name]['series_origin_year'].item(),\n",
    "                \"series_link\": series_link,\n",
    "                \"season\": season,\n",
    "                \"episode\": number[\"content\"],\n",
    "                \"episode_rating\": rating.text,\n",
    "                \"episode_total_votes\": total_votes.text.replace(\"(\", \"\").replace(\")\", \"\"),\n",
    "                \"episode_description\": description.text.strip()\n",
    "            }\n",
    "            \n",
    "            df = df.append(row, ignore_index=True)\n",
    "            \n",
    "            print(f\"######## SEASON {season} SCRAPED\")\n",
    "            \n",
    "    print(f\"{series_name.upper()} - TOTAL EPISODES: {len(df)}\")\n",
    "    print(\"########################################################################################\")\n",
    "            \n",
    "    return(df)\n",
    "        "
   ]
  },
  {
   "cell_type": "markdown",
   "id": "db9c0af5-3c47-4b6b-8f4b-0584cdfb5348",
   "metadata": {},
   "source": [
    "## Actual data scraping"
   ]
  },
  {
   "cell_type": "code",
   "execution_count": 29,
   "id": "d788cd9e-69c4-4784-9431-f33c26e3627b",
   "metadata": {},
   "outputs": [
    {
     "data": {
      "text/html": [
       "<div>\n",
       "<style scoped>\n",
       "    .dataframe tbody tr th:only-of-type {\n",
       "        vertical-align: middle;\n",
       "    }\n",
       "\n",
       "    .dataframe tbody tr th {\n",
       "        vertical-align: top;\n",
       "    }\n",
       "\n",
       "    .dataframe thead th {\n",
       "        text-align: right;\n",
       "    }\n",
       "</style>\n",
       "<table border=\"1\" class=\"dataframe\">\n",
       "  <thead>\n",
       "    <tr style=\"text-align: right;\">\n",
       "      <th></th>\n",
       "      <th>series_name</th>\n",
       "      <th>series_rank</th>\n",
       "      <th>series_origin_year</th>\n",
       "      <th>series_link</th>\n",
       "      <th>season</th>\n",
       "      <th>episode</th>\n",
       "      <th>episode_rating</th>\n",
       "      <th>episode_total_votes</th>\n",
       "      <th>episode_description</th>\n",
       "    </tr>\n",
       "  </thead>\n",
       "  <tbody>\n",
       "  </tbody>\n",
       "</table>\n",
       "</div>"
      ],
      "text/plain": [
       "Empty DataFrame\n",
       "Columns: [series_name, series_rank, series_origin_year, series_link, season, episode, episode_rating, episode_total_votes, episode_description]\n",
       "Index: []"
      ]
     },
     "execution_count": 29,
     "metadata": {},
     "output_type": "execute_result"
    }
   ],
   "source": [
    "episodes = pd.DataFrame(columns=[\"series_name\", \n",
    "                                 \"series_rank\", \n",
    "                                 \"series_origin_year\", \n",
    "                                 \"series_link\",\n",
    "                                 \"season\",\n",
    "                                 \"episode\",\n",
    "                                 \"episode_rating\",\n",
    "                                 \"episode_total_votes\",\n",
    "                                 \"episode_description\"\n",
    "                                ])\n",
    "episodes"
   ]
  },
  {
   "cell_type": "code",
   "execution_count": 83,
   "id": "f4ac1997-1344-4dad-ba1c-519166991b62",
   "metadata": {},
   "outputs": [
    {
     "data": {
      "text/html": [
       "<div>\n",
       "<style scoped>\n",
       "    .dataframe tbody tr th:only-of-type {\n",
       "        vertical-align: middle;\n",
       "    }\n",
       "\n",
       "    .dataframe tbody tr th {\n",
       "        vertical-align: top;\n",
       "    }\n",
       "\n",
       "    .dataframe thead th {\n",
       "        text-align: right;\n",
       "    }\n",
       "</style>\n",
       "<table border=\"1\" class=\"dataframe\">\n",
       "  <thead>\n",
       "    <tr style=\"text-align: right;\">\n",
       "      <th></th>\n",
       "      <th>series_name</th>\n",
       "      <th>series_rank</th>\n",
       "      <th>series_origin_year</th>\n",
       "      <th>series_link</th>\n",
       "      <th>series_id</th>\n",
       "    </tr>\n",
       "  </thead>\n",
       "  <tbody>\n",
       "    <tr>\n",
       "      <th>70</th>\n",
       "      <td>Invincible</td>\n",
       "      <td>71</td>\n",
       "      <td>2021</td>\n",
       "      <td>/title/tt6741278/</td>\n",
       "      <td>Invincible (2021)</td>\n",
       "    </tr>\n",
       "    <tr>\n",
       "      <th>71</th>\n",
       "      <td>Rome</td>\n",
       "      <td>72</td>\n",
       "      <td>2005</td>\n",
       "      <td>/title/tt0384766/</td>\n",
       "      <td>Rome (2005)</td>\n",
       "    </tr>\n",
       "    <tr>\n",
       "      <th>72</th>\n",
       "      <td>Dragon Ball Z</td>\n",
       "      <td>73</td>\n",
       "      <td>1996</td>\n",
       "      <td>/title/tt0214341/</td>\n",
       "      <td>Dragon Ball Z (1996)</td>\n",
       "    </tr>\n",
       "    <tr>\n",
       "      <th>73</th>\n",
       "      <td>Simma lugnt, Larry!</td>\n",
       "      <td>74</td>\n",
       "      <td>2000</td>\n",
       "      <td>/title/tt0264235/</td>\n",
       "      <td>Simma lugnt, Larry! (2000)</td>\n",
       "    </tr>\n",
       "    <tr>\n",
       "      <th>74</th>\n",
       "      <td>Jag, Claudius</td>\n",
       "      <td>75</td>\n",
       "      <td>1976</td>\n",
       "      <td>/title/tt0074006/</td>\n",
       "      <td>Jag, Claudius (1976)</td>\n",
       "    </tr>\n",
       "  </tbody>\n",
       "</table>\n",
       "</div>"
      ],
      "text/plain": [
       "            series_name series_rank series_origin_year        series_link  \\\n",
       "70           Invincible          71               2021  /title/tt6741278/   \n",
       "71                 Rome          72               2005  /title/tt0384766/   \n",
       "72        Dragon Ball Z          73               1996  /title/tt0214341/   \n",
       "73  Simma lugnt, Larry!          74               2000  /title/tt0264235/   \n",
       "74        Jag, Claudius          75               1976  /title/tt0074006/   \n",
       "\n",
       "                     series_id  \n",
       "70           Invincible (2021)  \n",
       "71                 Rome (2005)  \n",
       "72        Dragon Ball Z (1996)  \n",
       "73  Simma lugnt, Larry! (2000)  \n",
       "74        Jag, Claudius (1976)  "
      ]
     },
     "execution_count": 83,
     "metadata": {},
     "output_type": "execute_result"
    }
   ],
   "source": [
    "top_list[70:].head(5)"
   ]
  },
  {
   "cell_type": "code",
   "execution_count": null,
   "id": "b6d92522-8c0f-442b-99d4-be1f792316a6",
   "metadata": {},
   "outputs": [],
   "source": [
    "# One problem to solve: Series with identical names (e.g. House of Cards)"
   ]
  },
  {
   "cell_type": "code",
   "execution_count": null,
   "id": "64bbad85-6576-41d2-903c-d0e88a984e93",
   "metadata": {},
   "outputs": [],
   "source": [
    "# SELECT SHOWS TO SCRAPE\n",
    "\n",
    "# Based on top ranking\n",
    "#N_SERIES = 10\n",
    "#series_list = list(top_list.head(N_SERIES)['series_link'])\n",
    "\n",
    "# Based on taste\n",
    "series_list = [\n",
    "    \"Game of Thrones\", \n",
    "    \"The Wire\", \n",
    "    \"The Sopranos\", \n",
    "    \"Breaking Bad\", \n",
    "    \"True Detective\", \n",
    "    \"Peaky Blinders\", \n",
    "    \"Rome\", \n",
    "    \"Mad Men\",\n",
    "    \"Parks and Recreation\"\n",
    "]"
   ]
  },
  {
   "cell_type": "code",
   "execution_count": 32,
   "id": "7b809229-a511-4f13-b2c4-86502bc5b696",
   "metadata": {},
   "outputs": [
    {
     "name": "stdout",
     "output_type": "stream",
     "text": [
      "Seasons of Game of Thrones: 8\n",
      "# of episodes (all seasons) for Game of Thrones: 73\n",
      "Seasons of The Wire: 5\n",
      "# of episodes (all seasons) for The Wire: 60\n",
      "Seasons of The Sopranos: 6\n",
      "# of episodes (all seasons) for The Sopranos: 86\n",
      "Seasons of Breaking Bad: 5\n",
      "# of episodes (all seasons) for Breaking Bad: 62\n",
      "Seasons of True Detective: 3\n",
      "# of episodes (all seasons) for True Detective: 24\n",
      "Seasons of Peaky Blinders: 5\n",
      "# of episodes (all seasons) for Peaky Blinders: 30\n",
      "Seasons of Rome: 2\n",
      "# of episodes (all seasons) for Rome: 22\n"
     ]
    },
    {
     "ename": "ValueError",
     "evalue": "can only convert an array of size 1 to a Python scalar",
     "output_type": "error",
     "traceback": [
      "\u001b[0;31m---------------------------------------------------------------------------\u001b[0m",
      "\u001b[0;31mValueError\u001b[0m                                Traceback (most recent call last)",
      "\u001b[0;32m/var/folders/_p/cytfx8ds7rddgyf8_ggylgv40000gn/T/ipykernel_71714/2841398294.py\u001b[0m in \u001b[0;36m<module>\u001b[0;34m\u001b[0m\n\u001b[1;32m     25\u001b[0m \u001b[0;34m\u001b[0m\u001b[0m\n\u001b[1;32m     26\u001b[0m     \u001b[0;31m# Run through all the series's seasons and extract episode data.\u001b[0m\u001b[0;34m\u001b[0m\u001b[0;34m\u001b[0m\u001b[0;34m\u001b[0m\u001b[0m\n\u001b[0;32m---> 27\u001b[0;31m     \u001b[0mdf\u001b[0m \u001b[0;34m=\u001b[0m \u001b[0mget_ratings\u001b[0m\u001b[0;34m(\u001b[0m\u001b[0mseries_name\u001b[0m\u001b[0;34m=\u001b[0m\u001b[0mser\u001b[0m\u001b[0;34m)\u001b[0m\u001b[0;34m\u001b[0m\u001b[0;34m\u001b[0m\u001b[0m\n\u001b[0m\u001b[1;32m     28\u001b[0m \u001b[0;34m\u001b[0m\u001b[0m\n\u001b[1;32m     29\u001b[0m     \u001b[0;31m# Concatenate episode data to the main dataset.\u001b[0m\u001b[0;34m\u001b[0m\u001b[0;34m\u001b[0m\u001b[0;34m\u001b[0m\u001b[0m\n",
      "\u001b[0;32m/var/folders/_p/cytfx8ds7rddgyf8_ggylgv40000gn/T/ipykernel_71714/2415046189.py\u001b[0m in \u001b[0;36mget_ratings\u001b[0;34m(series_name)\u001b[0m\n\u001b[1;32m      2\u001b[0m \u001b[0;34m\u001b[0m\u001b[0m\n\u001b[1;32m      3\u001b[0m     \u001b[0;31m# Get the URL based on mapping between series title and series link.\u001b[0m\u001b[0;34m\u001b[0m\u001b[0;34m\u001b[0m\u001b[0;34m\u001b[0m\u001b[0m\n\u001b[0;32m----> 4\u001b[0;31m     \u001b[0mseries_link\u001b[0m \u001b[0;34m=\u001b[0m \u001b[0mtop_list\u001b[0m\u001b[0;34m[\u001b[0m\u001b[0mtop_list\u001b[0m\u001b[0;34m[\u001b[0m\u001b[0;34m'series_name'\u001b[0m\u001b[0;34m]\u001b[0m\u001b[0;34m==\u001b[0m\u001b[0;34mf\"{series_name}\"\u001b[0m\u001b[0;34m]\u001b[0m\u001b[0;34m[\u001b[0m\u001b[0;34m'series_link'\u001b[0m\u001b[0;34m]\u001b[0m\u001b[0;34m.\u001b[0m\u001b[0mitem\u001b[0m\u001b[0;34m(\u001b[0m\u001b[0;34m)\u001b[0m\u001b[0;34m\u001b[0m\u001b[0;34m\u001b[0m\u001b[0m\n\u001b[0m\u001b[1;32m      5\u001b[0m \u001b[0;34m\u001b[0m\u001b[0m\n\u001b[1;32m      6\u001b[0m     \u001b[0;31m# Create empty dataframe.\u001b[0m\u001b[0;34m\u001b[0m\u001b[0;34m\u001b[0m\u001b[0;34m\u001b[0m\u001b[0m\n",
      "\u001b[0;32m/usr/local/lib/python3.9/site-packages/pandas/core/base.py\u001b[0m in \u001b[0;36mitem\u001b[0;34m(self)\u001b[0m\n\u001b[1;32m    329\u001b[0m         \u001b[0;32mif\u001b[0m \u001b[0mlen\u001b[0m\u001b[0;34m(\u001b[0m\u001b[0mself\u001b[0m\u001b[0;34m)\u001b[0m \u001b[0;34m==\u001b[0m \u001b[0;36m1\u001b[0m\u001b[0;34m:\u001b[0m\u001b[0;34m\u001b[0m\u001b[0;34m\u001b[0m\u001b[0m\n\u001b[1;32m    330\u001b[0m             \u001b[0;32mreturn\u001b[0m \u001b[0mnext\u001b[0m\u001b[0;34m(\u001b[0m\u001b[0miter\u001b[0m\u001b[0;34m(\u001b[0m\u001b[0mself\u001b[0m\u001b[0;34m)\u001b[0m\u001b[0;34m)\u001b[0m\u001b[0;34m\u001b[0m\u001b[0;34m\u001b[0m\u001b[0m\n\u001b[0;32m--> 331\u001b[0;31m         \u001b[0;32mraise\u001b[0m \u001b[0mValueError\u001b[0m\u001b[0;34m(\u001b[0m\u001b[0;34m\"can only convert an array of size 1 to a Python scalar\"\u001b[0m\u001b[0;34m)\u001b[0m\u001b[0;34m\u001b[0m\u001b[0;34m\u001b[0m\u001b[0m\n\u001b[0m\u001b[1;32m    332\u001b[0m \u001b[0;34m\u001b[0m\u001b[0m\n\u001b[1;32m    333\u001b[0m     \u001b[0;34m@\u001b[0m\u001b[0mproperty\u001b[0m\u001b[0;34m\u001b[0m\u001b[0;34m\u001b[0m\u001b[0m\n",
      "\u001b[0;31mValueError\u001b[0m: can only convert an array of size 1 to a Python scalar"
     ]
    }
   ],
   "source": [
    "# Apply scraper!\n",
    "for ser in series_list:\n",
    "    \n",
    "    # Run through all the series's seasons and extract episode data.\n",
    "    df = get_ratings(series_name=ser)\n",
    "    \n",
    "    # Concatenate episode data to the main dataset.\n",
    "    episodes = pd.concat([episodes, df])\n",
    "    \n",
    "episodes = episodes.reset_index()"
   ]
  },
  {
   "cell_type": "code",
   "execution_count": 88,
   "id": "8efe1119-1172-4658-acbe-0f7be790e29c",
   "metadata": {},
   "outputs": [],
   "source": [
    "# Pickle or read pickled data. \n",
    "    \n",
    "# PICKLE\n",
    "# episodes.to_pickle(\"episode_data.pkl\")\n",
    "\n",
    "# READ\n",
    "episodes = pd.read_pickle(\"episode_data.pkl\")"
   ]
  },
  {
   "cell_type": "markdown",
   "id": "29cf587e-264c-46e8-9fd4-6f5a2447f95a",
   "metadata": {},
   "source": [
    "## Analyse data"
   ]
  },
  {
   "cell_type": "code",
   "execution_count": 91,
   "id": "0625301a-6a57-42ed-8580-d788cea2ab0c",
   "metadata": {},
   "outputs": [
    {
     "data": {
      "text/html": [
       "<div>\n",
       "<style scoped>\n",
       "    .dataframe tbody tr th:only-of-type {\n",
       "        vertical-align: middle;\n",
       "    }\n",
       "\n",
       "    .dataframe tbody tr th {\n",
       "        vertical-align: top;\n",
       "    }\n",
       "\n",
       "    .dataframe thead th {\n",
       "        text-align: right;\n",
       "    }\n",
       "</style>\n",
       "<table border=\"1\" class=\"dataframe\">\n",
       "  <thead>\n",
       "    <tr style=\"text-align: right;\">\n",
       "      <th></th>\n",
       "      <th>series_name</th>\n",
       "      <th>series_rank</th>\n",
       "      <th>series_origin_year</th>\n",
       "      <th>series_link</th>\n",
       "      <th>season</th>\n",
       "      <th>episode</th>\n",
       "      <th>episode_rating</th>\n",
       "      <th>episode_total_votes</th>\n",
       "      <th>episode_description</th>\n",
       "    </tr>\n",
       "  </thead>\n",
       "  <tbody>\n",
       "    <tr>\n",
       "      <th>69</th>\n",
       "      <td>The Sopranos</td>\n",
       "      <td>13</td>\n",
       "      <td>1999</td>\n",
       "      <td>/title/tt0141842/</td>\n",
       "      <td>6</td>\n",
       "      <td>5</td>\n",
       "      <td>8.8</td>\n",
       "      <td>4,185</td>\n",
       "      <td>Johnny Sack is granted permission to attend hi...</td>\n",
       "    </tr>\n",
       "    <tr>\n",
       "      <th>5</th>\n",
       "      <td>True Detective</td>\n",
       "      <td>32</td>\n",
       "      <td>2014</td>\n",
       "      <td>/title/tt2356777/</td>\n",
       "      <td>1</td>\n",
       "      <td>6</td>\n",
       "      <td>9.2</td>\n",
       "      <td>15,655</td>\n",
       "      <td>Cohle's activities in 2002, when his partnersh...</td>\n",
       "    </tr>\n",
       "  </tbody>\n",
       "</table>\n",
       "</div>"
      ],
      "text/plain": [
       "       series_name series_rank series_origin_year        series_link season  \\\n",
       "69    The Sopranos          13               1999  /title/tt0141842/      6   \n",
       "5   True Detective          32               2014  /title/tt2356777/      1   \n",
       "\n",
       "   episode episode_rating episode_total_votes  \\\n",
       "69       5            8.8               4,185   \n",
       "5        6            9.2              15,655   \n",
       "\n",
       "                                  episode_description  \n",
       "69  Johnny Sack is granted permission to attend hi...  \n",
       "5   Cohle's activities in 2002, when his partnersh...  "
      ]
     },
     "execution_count": 91,
     "metadata": {},
     "output_type": "execute_result"
    }
   ],
   "source": [
    "episodes.sample(2)"
   ]
  },
  {
   "cell_type": "code",
   "execution_count": 106,
   "id": "f4b55f33-e982-41bc-9ae2-85a5354fadd2",
   "metadata": {},
   "outputs": [],
   "source": [
    "episodes['episode_total_votes'] = episodes['episode_total_votes'].str.replace(',', '')"
   ]
  },
  {
   "cell_type": "code",
   "execution_count": 108,
   "id": "4a8f5f90-9d4a-4b73-ae21-4d3c07f4ef4b",
   "metadata": {},
   "outputs": [],
   "source": [
    "episodes = episodes.astype(\n",
    "    {\n",
    "        'series_name': 'str', \n",
    "        'series_rank': 'int64',\n",
    "        'series_origin_year': 'int64',\n",
    "        'series_link': 'str', \n",
    "        'season': 'int64',\n",
    "        'episode': 'int64',\n",
    "        'episode_rating': 'float64',\n",
    "        'episode_total_votes': 'int64',\n",
    "        'episode_description': 'str'\n",
    "    }\n",
    ")"
   ]
  },
  {
   "cell_type": "code",
   "execution_count": 179,
   "id": "95596b03-f40f-4975-b3b6-20c081637c4d",
   "metadata": {},
   "outputs": [],
   "source": [
    "# Fix types.\n",
    "episodes['season_episode'] = episodes['season'].astype(str).str.zfill(2) + \":\" + episodes['episode'].astype(str).str.zfill(2)"
   ]
  },
  {
   "cell_type": "code",
   "execution_count": 180,
   "id": "bbce77ad-e422-455b-8c10-6c3a78a84c7c",
   "metadata": {},
   "outputs": [
    {
     "data": {
      "text/html": [
       "<div>\n",
       "<style scoped>\n",
       "    .dataframe tbody tr th:only-of-type {\n",
       "        vertical-align: middle;\n",
       "    }\n",
       "\n",
       "    .dataframe tbody tr th {\n",
       "        vertical-align: top;\n",
       "    }\n",
       "\n",
       "    .dataframe thead th {\n",
       "        text-align: right;\n",
       "    }\n",
       "</style>\n",
       "<table border=\"1\" class=\"dataframe\">\n",
       "  <thead>\n",
       "    <tr style=\"text-align: right;\">\n",
       "      <th></th>\n",
       "      <th>series_name</th>\n",
       "      <th>series_rank</th>\n",
       "      <th>series_origin_year</th>\n",
       "      <th>series_link</th>\n",
       "      <th>season</th>\n",
       "      <th>episode</th>\n",
       "      <th>episode_rating</th>\n",
       "      <th>episode_total_votes</th>\n",
       "      <th>episode_description</th>\n",
       "      <th>season_episode</th>\n",
       "      <th>season_str</th>\n",
       "    </tr>\n",
       "  </thead>\n",
       "  <tbody>\n",
       "    <tr>\n",
       "      <th>36</th>\n",
       "      <td>Game of Thrones</td>\n",
       "      <td>12</td>\n",
       "      <td>2011</td>\n",
       "      <td>/title/tt0944947/</td>\n",
       "      <td>4</td>\n",
       "      <td>7</td>\n",
       "      <td>9.1</td>\n",
       "      <td>28927</td>\n",
       "      <td>Tyrion tries to find a champion. Daenerys slee...</td>\n",
       "      <td>04:07</td>\n",
       "      <td>04</td>\n",
       "    </tr>\n",
       "    <tr>\n",
       "      <th>4</th>\n",
       "      <td>The Sopranos</td>\n",
       "      <td>13</td>\n",
       "      <td>1999</td>\n",
       "      <td>/title/tt0141842/</td>\n",
       "      <td>1</td>\n",
       "      <td>5</td>\n",
       "      <td>9.0</td>\n",
       "      <td>6510</td>\n",
       "      <td>While visiting colleges with Meadow, Tony spot...</td>\n",
       "      <td>01:05</td>\n",
       "      <td>01</td>\n",
       "    </tr>\n",
       "  </tbody>\n",
       "</table>\n",
       "</div>"
      ],
      "text/plain": [
       "        series_name  series_rank  series_origin_year        series_link  \\\n",
       "36  Game of Thrones           12                2011  /title/tt0944947/   \n",
       "4      The Sopranos           13                1999  /title/tt0141842/   \n",
       "\n",
       "    season  episode  episode_rating  episode_total_votes  \\\n",
       "36       4        7             9.1                28927   \n",
       "4        1        5             9.0                 6510   \n",
       "\n",
       "                                  episode_description season_episode  \\\n",
       "36  Tyrion tries to find a champion. Daenerys slee...          04:07   \n",
       "4   While visiting colleges with Meadow, Tony spot...          01:05   \n",
       "\n",
       "   season_str  \n",
       "36         04  \n",
       "4          01  "
      ]
     },
     "execution_count": 180,
     "metadata": {},
     "output_type": "execute_result"
    }
   ],
   "source": [
    "episodes.sample(2)"
   ]
  },
  {
   "cell_type": "markdown",
   "id": "1bd3572b-5274-42ee-87e3-bdedd82b2da3",
   "metadata": {},
   "source": [
    "## Visualise data"
   ]
  },
  {
   "cell_type": "code",
   "execution_count": 181,
   "id": "3420a54e-a00f-4b9e-ad19-f5f000b45748",
   "metadata": {},
   "outputs": [
    {
     "data": {
      "text/plain": [
       "['Game of Thrones',\n",
       " 'The Wire',\n",
       " 'The Sopranos',\n",
       " 'Breaking Bad',\n",
       " 'True Detective',\n",
       " 'Peaky Blinders',\n",
       " 'Rome',\n",
       " 'House of Cards',\n",
       " 'Mad Men',\n",
       " 'Parks and Recreation']"
      ]
     },
     "execution_count": 181,
     "metadata": {},
     "output_type": "execute_result"
    }
   ],
   "source": [
    "series_list"
   ]
  },
  {
   "cell_type": "code",
   "execution_count": 198,
   "id": "03fd262e-0e91-45f7-b4c3-d06762a74e58",
   "metadata": {},
   "outputs": [],
   "source": [
    "SELECTED_SERIES_LIST = [\"Game of Thrones\", \"Peaky Blinders\", \"Rome\"]\n",
    "\n",
    "temp_data = episodes.query(f'series_name in {SELECTED_SERIES_LIST}')"
   ]
  },
  {
   "cell_type": "code",
   "execution_count": 199,
   "id": "216188cc-f3fb-4f93-9c55-fbfd575742f3",
   "metadata": {},
   "outputs": [
    {
     "data": {
      "image/png": "[encoded data removed]",
      "text/plain": [
       "<Figure size 2160x720 with 1 Axes>"
      ]
     },
     "metadata": {},
     "output_type": "display_data"
    }
   ],
   "source": [
    "sns.set(rc={'figure.figsize':(30,10)})\n",
    "sns.set_style('white')\n",
    "sns.set_context(\"poster\")\n",
    "\n",
    "#sns.lineplot(data=temp_data, x=\"season_episode\", y=\"episode_rating\");\n",
    "\n",
    "plt.title(\"Title\", size=24)\n",
    "\n",
    "g = sns.lineplot(data=temp_data.sort_values('season_episode'), \n",
    "                 x='season_episode', \n",
    "                 y=\"episode_rating\", \n",
    "                 markers=True,\n",
    "                 dashes=False,\n",
    "                 hue=\"series_name\",\n",
    "                 #style=\"series_name\",\n",
    "                 lw=5, \n",
    "                 alpha=1, \n",
    "                 palette=\"coolwarm\");\n",
    "\n",
    "plt.xlabel(\"Season:Episode\")\n",
    "plt.ylabel(\"Average rating per episode\")\n",
    "plt.xticks(rotation=90);\n"
   ]
  }
 ],
 "metadata": {
  "kernelspec": {
   "display_name": "Python 3 (ipykernel)",
   "language": "python",
   "name": "python3"
  },
  "language_info": {
   "codemirror_mode": {
    "name": "ipython",
    "version": 3
   },
   "file_extension": ".py",
   "mimetype": "text/x-python",
   "name": "python",
   "nbconvert_exporter": "python",
   "pygments_lexer": "ipython3",
   "version": "3.9.6"
  }
 },
 "nbformat": 4,
 "nbformat_minor": 5
}
